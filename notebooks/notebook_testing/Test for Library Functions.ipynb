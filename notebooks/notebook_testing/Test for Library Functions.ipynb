{
 "cells": [
  {
   "attachments": {},
   "cell_type": "markdown",
   "metadata": {
    "application/vnd.databricks.v1+cell": {
     "cellMetadata": {
      "byteLimit": 2048000,
      "rowLimit": 10000
     },
     "inputWidgets": {},
     "nuid": "25dd9a9f-23bb-4742-a9a3-e38acf0169ff",
     "showTitle": false,
     "title": ""
    }
   },
   "source": [
    "# Include the code that we'll test"
   ]
  },
  {
   "cell_type": "code",
   "execution_count": null,
   "metadata": {
    "application/vnd.databricks.v1+cell": {
     "cellMetadata": {
      "byteLimit": 2048000,
      "rowLimit": 10000
     },
     "inputWidgets": {},
     "nuid": "6a2ef70e-01a7-42d3-88c3-29b327b54db2",
     "showTitle": false,
     "title": ""
    }
   },
   "outputs": [
    {
     "name": "stdout",
     "output_type": "stream",
     "text": [
      "\u001b[43mNote: you may need to restart the kernel using dbutils.library.restartPython() to use updated packages.\u001b[0m\n",
      "Collecting unittest-xml-reporting\n",
      "  Downloading unittest_xml_reporting-3.2.0-py2.py3-none-any.whl (20 kB)\n",
      "Collecting lxml\n",
      "  Downloading lxml-4.9.2-cp310-cp310-manylinux_2_17_x86_64.manylinux2014_x86_64.manylinux_2_24_x86_64.whl (7.1 MB)\n",
      "     ━━━━━━━━━━━━━━━━━━━━━━━━━━━━━━━━━━━━━━━━ 7.1/7.1 MB 43.9 MB/s eta 0:00:00\n",
      "Installing collected packages: lxml, unittest-xml-reporting\n",
      "Successfully installed lxml-4.9.2 unittest-xml-reporting-3.2.0\n",
      "\u001b[43mNote: you may need to restart the kernel using dbutils.library.restartPython() to use updated packages.\u001b[0m\n"
     ]
    }
   ],
   "source": [
    "%pip install unittest-xml-reporting"
   ]
  },
  {
   "cell_type": "code",
   "execution_count": null,
   "metadata": {
    "application/vnd.databricks.v1+cell": {
     "cellMetadata": {
      "byteLimit": 2048000,
      "rowLimit": 10000
     },
     "inputWidgets": {},
     "nuid": "0a7aef42-32b6-4d63-9b48-8f95de76ec09",
     "showTitle": false,
     "title": ""
    }
   },
   "outputs": [],
   "source": [
    "%run \"./Library Functions\""
   ]
  },
  {
   "attachments": {},
   "cell_type": "markdown",
   "metadata": {
    "application/vnd.databricks.v1+cell": {
     "cellMetadata": {
      "byteLimit": 2048000,
      "rowLimit": 10000
     },
     "inputWidgets": {},
     "nuid": "13f5c8e4-3d9a-46ec-8b64-9e13eb6fab09",
     "showTitle": false,
     "title": ""
    }
   },
   "source": [
    "# Import package for unit testing\n",
    "\n",
    "We'll use built-in package: [unittest](https://docs.python.org/3/library/unittest.html)."
   ]
  },
  {
   "cell_type": "code",
   "execution_count": null,
   "metadata": {
    "application/vnd.databricks.v1+cell": {
     "cellMetadata": {
      "byteLimit": 2048000,
      "rowLimit": 10000
     },
     "inputWidgets": {},
     "nuid": "eb58fd5f-763d-4359-ba06-ac3801391bad",
     "showTitle": false,
     "title": ""
    }
   },
   "outputs": [],
   "source": [
    "import unittest"
   ]
  },
  {
   "attachments": {},
   "cell_type": "markdown",
   "metadata": {
    "application/vnd.databricks.v1+cell": {
     "cellMetadata": {
      "byteLimit": 2048000,
      "rowLimit": 10000
     },
     "inputWidgets": {},
     "nuid": "e3999ccf-115f-472f-909e-12d4cc11e146",
     "showTitle": false,
     "title": ""
    }
   },
   "source": [
    "# Tests could be implemented as classes\n",
    "\n",
    "One of the main advantages of implementing as classes is that we can execute some functions before/after our test functions by implementing the `setUp()`, `tearDown()`, etc.\n",
    "\n",
    "Another advantage that we'll inhering many useful functions such as, `assertEqual`, `assertIsNotNone`, ..., and we can annotate the function & class with additional information, for example, if failure is expected."
   ]
  },
  {
   "cell_type": "code",
   "execution_count": null,
   "metadata": {
    "application/vnd.databricks.v1+cell": {
     "cellMetadata": {
      "byteLimit": 2048000,
      "rowLimit": 10000
     },
     "inputWidgets": {},
     "nuid": "23e27b55-1889-4789-b6dd-a3c86019fd75",
     "showTitle": false,
     "title": ""
    }
   },
   "outputs": [],
   "source": [
    "class SimpleTest(unittest.TestCase):\n",
    "    def test_data_generation(self):\n",
    "      n = 100\n",
    "      name = \"tmp42\"\n",
    "      generate_data(n=n, name=name)\n",
    "      df = spark.sql(f\"select * from {name}\")\n",
    "      self.assertEqual(df.count(), n)\n",
    "\n",
    "    def test_data_prediction(self):\n",
    "      predicted = get_data_prediction()\n",
    "      self.assertEqual(predicted, 42)"
   ]
  },
  {
   "attachments": {},
   "cell_type": "markdown",
   "metadata": {
    "application/vnd.databricks.v1+cell": {
     "cellMetadata": {
      "byteLimit": 2048000,
      "rowLimit": 10000
     },
     "inputWidgets": {},
     "nuid": "d3634ac3-fada-43f2-9f6a-2aad4811796c",
     "showTitle": false,
     "title": ""
    }
   },
   "source": [
    "# Tests could be implemented as functions\n",
    "\n",
    "This is mostly done when we already have some code that performs testing, and we want to integrate it into the testing pipeline."
   ]
  },
  {
   "cell_type": "code",
   "execution_count": null,
   "metadata": {
    "application/vnd.databricks.v1+cell": {
     "cellMetadata": {
      "byteLimit": 2048000,
      "rowLimit": 10000
     },
     "inputWidgets": {},
     "nuid": "dde98936-c66e-422f-b7b6-c653590fb7ab",
     "showTitle": false,
     "title": ""
    }
   },
   "outputs": [],
   "source": [
    "def test_data_generation():\n",
    "  n = 100\n",
    "  name = \"tmp42\"\n",
    "  generate_data(n=n, name=name)\n",
    "  df = spark.sql(f\"select * from {name}\")\n",
    "  assert df.count() == n"
   ]
  },
  {
   "cell_type": "code",
   "execution_count": null,
   "metadata": {
    "application/vnd.databricks.v1+cell": {
     "cellMetadata": {
      "byteLimit": 2048000,
      "rowLimit": 10000
     },
     "inputWidgets": {},
     "nuid": "0d35c1b7-2cfb-4f30-8a41-a9e597cefe14",
     "showTitle": false,
     "title": ""
    }
   },
   "outputs": [],
   "source": [
    "def test_data_prediction():\n",
    "  predicted = get_data_prediction()\n",
    "  assert predicted == 42"
   ]
  },
  {
   "attachments": {},
   "cell_type": "markdown",
   "metadata": {
    "application/vnd.databricks.v1+cell": {
     "cellMetadata": {
      "byteLimit": 2048000,
      "rowLimit": 10000
     },
     "inputWidgets": {},
     "nuid": "b4ae16c3-bad5-40ff-9a55-78da8f000c9a",
     "showTitle": false,
     "title": ""
    }
   },
   "source": [
    "# Generate the test suite\n",
    "\n",
    "Some of Python packages for unit testign are relying on automatic tests discovery based on the file analysis, etc.  When working with Databricks notebooks this may not work, so we may need somehow generate the test suite that will be executed."
   ]
  },
  {
   "attachments": {},
   "cell_type": "markdown",
   "metadata": {
    "application/vnd.databricks.v1+cell": {
     "cellMetadata": {
      "byteLimit": 2048000,
      "rowLimit": 10000
     },
     "inputWidgets": {},
     "nuid": "2f49ef69-e068-448c-8e43-1c093fb1e36e",
     "showTitle": false,
     "title": ""
    }
   },
   "source": [
    "For test classes we can either:\n",
    "* build the test suite explicitly for every test class and each test case inside it, as in the `generate_test_class_suite` function\n",
    "* automatically discover all test cases in the given class(-es) as in the `discover_test_cases` function\n",
    "* discover all available test classes and their test cases completely automatically as in the `discover_test_classes` (in combination with `discover_test_cases`) by looking for classes with name ending with `Test`"
   ]
  },
  {
   "cell_type": "code",
   "execution_count": null,
   "metadata": {
    "application/vnd.databricks.v1+cell": {
     "cellMetadata": {
      "byteLimit": 2048000,
      "rowLimit": 10000
     },
     "inputWidgets": {},
     "nuid": "b40ba965-f706-45ba-9b05-6d8e01e48173",
     "showTitle": false,
     "title": ""
    }
   },
   "outputs": [],
   "source": [
    "def generate_test_class_suite():\n",
    "  suite = unittest.TestSuite()\n",
    "  suite.addTest(SimpleTest('test_data_generation'))\n",
    "  suite.addTest(SimpleTest('test_data_prediction'))\n",
    "\n",
    "  return suite"
   ]
  },
  {
   "cell_type": "code",
   "execution_count": null,
   "metadata": {
    "application/vnd.databricks.v1+cell": {
     "cellMetadata": {
      "byteLimit": 2048000,
      "rowLimit": 10000
     },
     "inputWidgets": {},
     "nuid": "a7548775-87c2-4372-bef9-83223db0d572",
     "showTitle": false,
     "title": ""
    }
   },
   "outputs": [],
   "source": [
    "def discover_test_cases(*test_classes):\n",
    "  suite = unittest.TestSuite()\n",
    "  for test_class in test_classes:\n",
    "    for test in unittest.defaultTestLoader.getTestCaseNames(test_class):\n",
    "      suite.addTest(test_class(test))\n",
    "      \n",
    "  return suite"
   ]
  },
  {
   "cell_type": "code",
   "execution_count": null,
   "metadata": {
    "application/vnd.databricks.v1+cell": {
     "cellMetadata": {
      "byteLimit": 2048000,
      "rowLimit": 10000
     },
     "inputWidgets": {},
     "nuid": "422da509-b15a-4818-9cf7-ec3b2fa9fff9",
     "showTitle": false,
     "title": ""
    }
   },
   "outputs": [],
   "source": [
    "def discover_test_classes():\n",
    "  classes = [obj for name, obj in globals().items()\n",
    "    if name.endswith('Test') and obj.__module__ == '__main__' and isinstance(obj, type) and unittest.case.TestCase in set(obj.__bases__)]\n",
    "\n",
    "  return discover_test_cases(*classes)"
   ]
  },
  {
   "cell_type": "code",
   "execution_count": null,
   "metadata": {
    "application/vnd.databricks.v1+cell": {
     "cellMetadata": {
      "byteLimit": 2048000,
      "rowLimit": 10000
     },
     "inputWidgets": {},
     "nuid": "a3e86439-6c5f-489d-88bd-2c98d2671978",
     "showTitle": false,
     "title": ""
    }
   },
   "outputs": [],
   "source": [
    "suite = generate_test_class_suite()\n",
    "# or\n",
    "# suite = discover_test_cases(SimpleTest)\n",
    "# # or \n",
    "# suite = discover_test_classes()"
   ]
  },
  {
   "attachments": {},
   "cell_type": "markdown",
   "metadata": {
    "application/vnd.databricks.v1+cell": {
     "cellMetadata": {
      "byteLimit": 2048000,
      "rowLimit": 10000
     },
     "inputWidgets": {},
     "nuid": "fa766852-f717-4fa5-87ff-45b6c7eaddf3",
     "showTitle": false,
     "title": ""
    }
   },
   "source": [
    "For functions, test suite could be either built explicitly, like in the function `generate_function_suite`, or discovered by analyzing the global declarations as in the `discover_function_suite` function that includes into the test suite all functions with given prefix (`test_` in our example) - this could lead to some errors if you have functions with name starting with selected prefix that are defined in the current context:"
   ]
  },
  {
   "cell_type": "code",
   "execution_count": null,
   "metadata": {
    "application/vnd.databricks.v1+cell": {
     "cellMetadata": {
      "byteLimit": 2048000,
      "rowLimit": 10000
     },
     "inputWidgets": {},
     "nuid": "d6c83f3c-498f-4087-8e3e-d0498d3ed8f5",
     "showTitle": false,
     "title": ""
    }
   },
   "outputs": [],
   "source": [
    "def generate_function_suite(suite = None):\n",
    "    if suite is None:\n",
    "      suite = unittest.TestSuite()\n",
    "    suite.addTest(unittest.FunctionTestCase(test_data_generation))\n",
    "    suite.addTest(unittest.FunctionTestCase(test_data_prediction))\n",
    "    return suite"
   ]
  },
  {
   "cell_type": "code",
   "execution_count": null,
   "metadata": {
    "application/vnd.databricks.v1+cell": {
     "cellMetadata": {
      "byteLimit": 2048000,
      "rowLimit": 10000
     },
     "inputWidgets": {},
     "nuid": "a18bc8ad-4312-41ef-8df7-71f62858b1f5",
     "showTitle": false,
     "title": ""
    }
   },
   "outputs": [],
   "source": [
    "def discover_function_suite(suite = None):\n",
    "    if suite is None:\n",
    "      suite = unittest.TestSuite()\n",
    "    for name, obj in globals().items():\n",
    "      if name.startswith('test_') and callable(obj) and obj.__module__ == '__main__':\n",
    "        suite.addTest(unittest.FunctionTestCase(obj))\n",
    "    \n",
    "    return suite"
   ]
  },
  {
   "cell_type": "code",
   "execution_count": null,
   "metadata": {
    "application/vnd.databricks.v1+cell": {
     "cellMetadata": {
      "byteLimit": 2048000,
      "rowLimit": 10000
     },
     "inputWidgets": {},
     "nuid": "585af798-e8d0-493f-afcf-94267e1db84f",
     "showTitle": false,
     "title": ""
    }
   },
   "outputs": [],
   "source": [
    "suite = generate_function_suite()\n",
    "# or\n",
    "# suite = discover_function_suite()"
   ]
  },
  {
   "attachments": {},
   "cell_type": "markdown",
   "metadata": {
    "application/vnd.databricks.v1+cell": {
     "cellMetadata": {
      "byteLimit": 2048000,
      "rowLimit": 10000
     },
     "inputWidgets": {},
     "nuid": "126da4bd-caa2-4064-809d-8fba0f3ec159",
     "showTitle": false,
     "title": ""
    }
   },
   "source": [
    "and we can combine discovery of the both test functions & test classes:"
   ]
  },
  {
   "cell_type": "code",
   "execution_count": null,
   "metadata": {
    "application/vnd.databricks.v1+cell": {
     "cellMetadata": {
      "byteLimit": 2048000,
      "rowLimit": 10000
     },
     "inputWidgets": {},
     "nuid": "2d66066b-9ab3-4bb4-b03c-f66a3eacd1a3",
     "showTitle": false,
     "title": ""
    }
   },
   "outputs": [],
   "source": [
    "def discover_test_classes_and_functions():\n",
    "  return discover_function_suite(suite = discover_test_classes())"
   ]
  },
  {
   "cell_type": "code",
   "execution_count": null,
   "metadata": {
    "application/vnd.databricks.v1+cell": {
     "cellMetadata": {
      "byteLimit": 2048000,
      "rowLimit": 10000
     },
     "inputWidgets": {},
     "nuid": "002352ea-3329-4cf8-abd7-5d7edc1cf69a",
     "showTitle": false,
     "title": ""
    }
   },
   "outputs": [],
   "source": [
    "suite = discover_test_classes_and_functions()"
   ]
  },
  {
   "cell_type": "code",
   "execution_count": null,
   "metadata": {
    "application/vnd.databricks.v1+cell": {
     "cellMetadata": {
      "byteLimit": 2048000,
      "rowLimit": 10000
     },
     "inputWidgets": {},
     "nuid": "54e298c4-5c93-4443-a19c-0ae9804ce271",
     "showTitle": false,
     "title": ""
    }
   },
   "outputs": [
    {
     "name": "stdout",
     "output_type": "stream",
     "text": [
      "<unittest.suite.TestSuite tests=[<__main__.SimpleTest testMethod=test_data_generation>, <__main__.SimpleTest testMethod=test_data_prediction>, <unittest.case.FunctionTestCase tec=<function test_data_generation at 0x7f38ac7300d0>>, <unittest.case.FunctionTestCase tec=<function test_data_prediction at 0x7f38ac7308b0>>]>\n"
     ]
    }
   ],
   "source": [
    "print(suite)"
   ]
  },
  {
   "attachments": {},
   "cell_type": "markdown",
   "metadata": {
    "application/vnd.databricks.v1+cell": {
     "cellMetadata": {
      "byteLimit": 2048000,
      "rowLimit": 10000
     },
     "inputWidgets": {},
     "nuid": "903ed235-4eaa-4315-b1c8-ae230c750914",
     "showTitle": false,
     "title": ""
    }
   },
   "source": [
    "# Execute the test suite"
   ]
  },
  {
   "attachments": {},
   "cell_type": "markdown",
   "metadata": {
    "application/vnd.databricks.v1+cell": {
     "cellMetadata": {
      "byteLimit": 2048000,
      "rowLimit": 10000
     },
     "inputWidgets": {},
     "nuid": "77593566-208e-4f0b-8b71-297f2ae0c8ea",
     "showTitle": false,
     "title": ""
    }
   },
   "source": [
    "When the test suite is generated, we can execute it and get testing results"
   ]
  },
  {
   "cell_type": "code",
   "execution_count": null,
   "metadata": {
    "application/vnd.databricks.v1+cell": {
     "cellMetadata": {
      "byteLimit": 2048000,
      "rowLimit": 10000
     },
     "inputWidgets": {},
     "nuid": "986b20f6-4696-47e3-870c-dabed362085a",
     "showTitle": false,
     "title": ""
    }
   },
   "outputs": [
    {
     "name": "stdout",
     "output_type": "stream",
     "text": [
      "<unittest.runner.TextTestRunner object at 0x7f38acafbbe0>\n",
      "<unittest.suite.TestSuite tests=[<__main__.SimpleTest testMethod=test_data_generation>, <__main__.SimpleTest testMethod=test_data_prediction>, <unittest.case.FunctionTestCase tec=<function test_data_generation at 0x7f38ac7300d0>>, <unittest.case.FunctionTestCase tec=<function test_data_prediction at 0x7f38ac7308b0>>]>\n"
     ]
    }
   ],
   "source": [
    "runner = unittest.TextTestRunner()\n",
    "print(runner)\n",
    "print(suite)"
   ]
  },
  {
   "cell_type": "code",
   "execution_count": null,
   "metadata": {
    "application/vnd.databricks.v1+cell": {
     "cellMetadata": {
      "byteLimit": 2048000,
      "rowLimit": 10000
     },
     "inputWidgets": {},
     "nuid": "a538b11f-0f62-4d3c-8d5d-06a8556febca",
     "showTitle": false,
     "title": ""
    }
   },
   "outputs": [
    {
     "name": "stderr",
     "output_type": "stream",
     "text": [
      "....\n",
      "----------------------------------------------------------------------\n",
      "Ran 4 tests in 9.845s\n",
      "\n",
      "OK\n"
     ]
    }
   ],
   "source": [
    "r = runner.run(suite)"
   ]
  },
  {
   "cell_type": "code",
   "execution_count": null,
   "metadata": {
    "application/vnd.databricks.v1+cell": {
     "cellMetadata": {
      "byteLimit": 2048000,
      "rowLimit": 10000
     },
     "inputWidgets": {},
     "nuid": "a5625c0c-8973-4eba-a76b-d351a2ab78d8",
     "showTitle": false,
     "title": ""
    }
   },
   "outputs": [],
   "source": [
    "# # if we want to generate JUnit-compatible output, set to True\n",
    "use_xml_runner = False\n",
    "\n",
    "if use_xml_runner:\n",
    "  import xmlrunner\n",
    "  runner = xmlrunner.XMLTestRunner(output='/dbfs/Users/dustin.vannoy@databricks.com/tmp/test-reports')\n",
    "else:\n",
    "  runner = unittest.TextTestRunner()\n",
    "results = runner.run(suite)"
   ]
  },
  {
   "cell_type": "code",
   "execution_count": null,
   "metadata": {
    "application/vnd.databricks.v1+cell": {
     "cellMetadata": {
      "byteLimit": 2048000,
      "rowLimit": 10000
     },
     "inputWidgets": {},
     "nuid": "d80bb4c8-02e5-49ab-b1ec-b300da8ac4b5",
     "showTitle": false,
     "title": ""
    }
   },
   "outputs": [],
   "source": [
    "%sh ls -ls /dbfs/tmp/test-reports"
   ]
  },
  {
   "attachments": {},
   "cell_type": "markdown",
   "metadata": {
    "application/vnd.databricks.v1+cell": {
     "cellMetadata": {
      "byteLimit": 2048000,
      "rowLimit": 10000
     },
     "inputWidgets": {},
     "nuid": "1a9cf902-8bad-4673-8b7b-f0da616f093b",
     "showTitle": false,
     "title": ""
    }
   },
   "source": [
    "# Use tests auto-discovery\n",
    " \n",
    "For `unittest` library we may use tests auto-discovery, that will find tests implemented as classes.  The **main requirement for use with Databricks is to set `exit = False` in the list of arguments of `unittest.main` function.** It also makes sense to explicitly pass `argv` as single-element list, to avoid use of `sys.argv` that on Databricks contains parameters that were used to start Python subprocess. (see [documentation on `unittest.main`](https://docs.python.org/3.7/library/unittest.html#unittest.main))"
   ]
  },
  {
   "cell_type": "code",
   "execution_count": null,
   "metadata": {
    "application/vnd.databricks.v1+cell": {
     "cellMetadata": {
      "byteLimit": 2048000,
      "rowLimit": 10000
     },
     "inputWidgets": {},
     "nuid": "5582f1ea-9a82-44aa-a3a4-2e3c55adff23",
     "showTitle": false,
     "title": ""
    }
   },
   "outputs": [
    {
     "name": "stderr",
     "output_type": "stream",
     "text": [
      "..\n",
      "----------------------------------------------------------------------\n",
      "Ran 2 tests in 0.380s\n",
      "\n",
      "OK\n",
      "\n"
     ]
    }
   ],
   "source": [
    "test_runner = unittest.main(argv=[''], exit=False)\n",
    "test_runner.result.printErrors()\n",
    "\n",
    "if not test_runner.result.wasSuccessful():\n",
    "  raise Exception(f\"{len(test_runner.result.failures)} of {test_runner.result.testsRun} tests failed.\")"
   ]
  }
 ],
 "metadata": {
  "application/vnd.databricks.v1+notebook": {
   "dashboards": [],
   "language": "python",
   "notebookMetadata": {
    "mostRecentlyExecutedCommandWithImplicitDF": {
     "commandId": -1,
     "dataframes": [
      "_sqldf"
     ]
    },
    "pythonIndentUnit": 2
   },
   "notebookName": "Test for Library Functions",
   "widgets": {}
  },
  "language_info": {
   "name": "python"
  }
 },
 "nbformat": 4,
 "nbformat_minor": 0
}
